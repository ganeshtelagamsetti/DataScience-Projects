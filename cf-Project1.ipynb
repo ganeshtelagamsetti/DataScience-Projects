{
 "cells": [
  {
   "cell_type": "markdown",
   "metadata": {},
   "source": [
    "<h1>Student Portfolio</h1>"
   ]
  },
  {
   "cell_type": "markdown",
   "metadata": {},
   "source": [
    "<h2>Project-1</h2>"
   ]
  },
  {
   "cell_type": "code",
   "execution_count": 1,
   "metadata": {},
   "outputs": [
    {
     "name": "stdout",
     "output_type": "stream",
     "text": [
      "Enter Name of the Student:Ganesh Telagamsetti\n",
      "Enter the class:12\n",
      "Enter the section:C\n",
      "Enter roll number:22\n",
      "Enter Mathematics marks:95\n",
      "Enter Physics marks:77\n",
      "Enter Chemistry marks:88\n"
     ]
    }
   ],
   "source": [
    "name=input(\"Enter Name of the Student:\")\n",
    "standard=input(\"Enter the class:\")\n",
    "div=input(\"Enter the section:\")\n",
    "roll=int(input(\"Enter roll number:\"))\n",
    "mat=int(input(\"Enter Mathematics marks:\"))\n",
    "phy=int(input(\"Enter Physics marks:\"))\n",
    "che=int(input(\"Enter Chemistry marks:\"))"
   ]
  },
  {
   "cell_type": "code",
   "execution_count": 2,
   "metadata": {},
   "outputs": [
    {
     "name": "stdout",
     "output_type": "stream",
     "text": [
      "Student Portfolio:\n",
      "Name: Ganesh Telagamsetti\n",
      "Class: 12 - C\n",
      "Roll No.: 22\n",
      "Mathematics:95\n",
      "Physics:77\n",
      "Chemistry:88\n",
      "Total Marks: 260 /300\n"
     ]
    }
   ],
   "source": [
    "print(\"Student Portfolio:\")\n",
    "print(\"Name:\",name)\n",
    "print(\"Class:\",standard,'-',div)\n",
    "print(\"Roll No.:\",roll)\n",
    "print(\"Mathematics:\"+str(mat)+\"\\n\"+\"Physics:\"+str(phy)+\"\\n\"+\"Chemistry:\"+str(che))\n",
    "print(\"Total Marks:\",mat+phy+che,\"/300\")"
   ]
  }
 ],
 "metadata": {
  "kernelspec": {
   "display_name": "Python 3",
   "language": "python",
   "name": "python3"
  },
  "language_info": {
   "codemirror_mode": {
    "name": "ipython",
    "version": 3
   },
   "file_extension": ".py",
   "mimetype": "text/x-python",
   "name": "python",
   "nbconvert_exporter": "python",
   "pygments_lexer": "ipython3",
   "version": "3.7.6"
  }
 },
 "nbformat": 4,
 "nbformat_minor": 4
}
